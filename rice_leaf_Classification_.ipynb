{
  "nbformat": 4,
  "nbformat_minor": 0,
  "metadata": {
    "colab": {
      "name": "rice leaf Classification .ipynb",
      "provenance": [],
      "collapsed_sections": [],
      "toc_visible": true
    },
    "kernelspec": {
      "name": "python3",
      "display_name": "Python 3"
    },
    "language_info": {
      "name": "python"
    }
  },
  "cells": [
    {
      "cell_type": "code",
      "execution_count": null,
      "metadata": {
        "id": "Rqu8ofjZwFDN"
      },
      "outputs": [],
      "source": [
        "# Data : Images"
      ]
    },
    {
      "cell_type": "code",
      "source": [
        "! pip install kaggle"
      ],
      "metadata": {
        "colab": {
          "base_uri": "https://localhost:8080/"
        },
        "id": "hHxbC4-R0eDX",
        "outputId": "265a52c6-d0d9-427a-dc84-4768d5b1d0ca"
      },
      "execution_count": null,
      "outputs": [
        {
          "output_type": "stream",
          "name": "stdout",
          "text": [
            "Requirement already satisfied: kaggle in /usr/local/lib/python3.7/dist-packages (1.5.12)\n",
            "Requirement already satisfied: python-slugify in /usr/local/lib/python3.7/dist-packages (from kaggle) (6.1.1)\n",
            "Requirement already satisfied: six>=1.10 in /usr/local/lib/python3.7/dist-packages (from kaggle) (1.15.0)\n",
            "Requirement already satisfied: urllib3 in /usr/local/lib/python3.7/dist-packages (from kaggle) (1.24.3)\n",
            "Requirement already satisfied: tqdm in /usr/local/lib/python3.7/dist-packages (from kaggle) (4.64.0)\n",
            "Requirement already satisfied: certifi in /usr/local/lib/python3.7/dist-packages (from kaggle) (2021.10.8)\n",
            "Requirement already satisfied: requests in /usr/local/lib/python3.7/dist-packages (from kaggle) (2.23.0)\n",
            "Requirement already satisfied: python-dateutil in /usr/local/lib/python3.7/dist-packages (from kaggle) (2.8.2)\n",
            "Requirement already satisfied: text-unidecode>=1.3 in /usr/local/lib/python3.7/dist-packages (from python-slugify->kaggle) (1.3)\n",
            "Requirement already satisfied: chardet<4,>=3.0.2 in /usr/local/lib/python3.7/dist-packages (from requests->kaggle) (3.0.4)\n",
            "Requirement already satisfied: idna<3,>=2.5 in /usr/local/lib/python3.7/dist-packages (from requests->kaggle) (2.10)\n"
          ]
        }
      ]
    },
    {
      "cell_type": "code",
      "source": [
        "!mkdir ~/.kaggle\n",
        "! cp kaggle.json ~/.kaggle/"
      ],
      "metadata": {
        "colab": {
          "base_uri": "https://localhost:8080/"
        },
        "id": "a_uW---90mN7",
        "outputId": "8268022a-ed46-4420-e5dd-ad3324d56f46"
      },
      "execution_count": null,
      "outputs": [
        {
          "output_type": "stream",
          "name": "stdout",
          "text": [
            "mkdir: cannot create directory ‘/root/.kaggle’: File exists\n",
            "cp: cannot stat 'kaggle.json': No such file or directory\n"
          ]
        }
      ]
    },
    {
      "cell_type": "code",
      "source": [
        "! chmod 600 ~/.kaggle/kaggle.json"
      ],
      "metadata": {
        "id": "3hR7SQU200bS"
      },
      "execution_count": null,
      "outputs": []
    },
    {
      "cell_type": "code",
      "source": [
        "! kaggle datasets download -d vbookshelf/rice-leaf-diseases"
      ],
      "metadata": {
        "colab": {
          "base_uri": "https://localhost:8080/"
        },
        "id": "emlS3SKz0-Lo",
        "outputId": "9621c85c-324a-4e83-d911-31db6d96ff47"
      },
      "execution_count": null,
      "outputs": [
        {
          "output_type": "stream",
          "name": "stdout",
          "text": [
            "Downloading rice-leaf-diseases.zip to /content\n",
            " 95% 35.0M/36.7M [00:00<00:00, 97.9MB/s]\n",
            "100% 36.7M/36.7M [00:00<00:00, 97.6MB/s]\n"
          ]
        }
      ]
    },
    {
      "cell_type": "code",
      "source": [
        "! unzip rice-leaf-diseases.zip"
      ],
      "metadata": {
        "colab": {
          "base_uri": "https://localhost:8080/"
        },
        "id": "gDmCK41m1uzD",
        "outputId": "3cadeb38-467a-431e-8660-5aaf1a300e24"
      },
      "execution_count": null,
      "outputs": [
        {
          "output_type": "stream",
          "name": "stdout",
          "text": [
            "Archive:  rice-leaf-diseases.zip\n",
            "  inflating: rice_leaf_diseases/Bacterial leaf blight/DSC_0365.JPG  \n",
            "  inflating: rice_leaf_diseases/Bacterial leaf blight/DSC_0366.jpg  \n",
            "  inflating: rice_leaf_diseases/Bacterial leaf blight/DSC_0367.JPG  \n",
            "  inflating: rice_leaf_diseases/Bacterial leaf blight/DSC_0370.jpg  \n",
            "  inflating: rice_leaf_diseases/Bacterial leaf blight/DSC_0372.JPG  \n",
            "  inflating: rice_leaf_diseases/Bacterial leaf blight/DSC_0373.JPG  \n",
            "  inflating: rice_leaf_diseases/Bacterial leaf blight/DSC_0374.JPG  \n",
            "  inflating: rice_leaf_diseases/Bacterial leaf blight/DSC_0375.JPG  \n",
            "  inflating: rice_leaf_diseases/Bacterial leaf blight/DSC_0376.JPG  \n",
            "  inflating: rice_leaf_diseases/Bacterial leaf blight/DSC_0377.JPG  \n",
            "  inflating: rice_leaf_diseases/Bacterial leaf blight/DSC_0378.JPG  \n",
            "  inflating: rice_leaf_diseases/Bacterial leaf blight/DSC_0379.JPG  \n",
            "  inflating: rice_leaf_diseases/Bacterial leaf blight/DSC_0380.JPG  \n",
            "  inflating: rice_leaf_diseases/Bacterial leaf blight/DSC_0381.JPG  \n",
            "  inflating: rice_leaf_diseases/Bacterial leaf blight/DSC_0382.JPG  \n",
            "  inflating: rice_leaf_diseases/Bacterial leaf blight/DSC_0383.JPG  \n",
            "  inflating: rice_leaf_diseases/Bacterial leaf blight/DSC_0384.JPG  \n",
            "  inflating: rice_leaf_diseases/Bacterial leaf blight/DSC_0385.jpg  \n",
            "  inflating: rice_leaf_diseases/Bacterial leaf blight/DSC_0386.JPG  \n",
            "  inflating: rice_leaf_diseases/Bacterial leaf blight/DSC_0388.JPG  \n",
            "  inflating: rice_leaf_diseases/Bacterial leaf blight/DSC_0389.JPG  \n",
            "  inflating: rice_leaf_diseases/Bacterial leaf blight/DSC_0390.JPG  \n",
            "  inflating: rice_leaf_diseases/Bacterial leaf blight/DSC_0392.JPG  \n",
            "  inflating: rice_leaf_diseases/Bacterial leaf blight/DSC_0393.JPG  \n",
            "  inflating: rice_leaf_diseases/Bacterial leaf blight/DSC_0395.JPG  \n",
            "  inflating: rice_leaf_diseases/Bacterial leaf blight/DSC_0396.JPG  \n",
            "  inflating: rice_leaf_diseases/Bacterial leaf blight/DSC_0397.JPG  \n",
            "  inflating: rice_leaf_diseases/Bacterial leaf blight/DSC_0398.JPG  \n",
            "  inflating: rice_leaf_diseases/Bacterial leaf blight/DSC_0399.JPG  \n",
            "  inflating: rice_leaf_diseases/Bacterial leaf blight/DSC_0400.JPG  \n",
            "  inflating: rice_leaf_diseases/Bacterial leaf blight/DSC_0401.JPG  \n",
            "  inflating: rice_leaf_diseases/Bacterial leaf blight/DSC_0402.JPG  \n",
            "  inflating: rice_leaf_diseases/Bacterial leaf blight/DSC_0403.JPG  \n",
            "  inflating: rice_leaf_diseases/Bacterial leaf blight/DSC_0404.JPG  \n",
            "  inflating: rice_leaf_diseases/Bacterial leaf blight/DSC_0405.JPG  \n",
            "  inflating: rice_leaf_diseases/Bacterial leaf blight/DSC_0406.JPG  \n",
            "  inflating: rice_leaf_diseases/Bacterial leaf blight/DSC_0700.jpg  \n",
            "  inflating: rice_leaf_diseases/Bacterial leaf blight/DSC_0701.jpg  \n",
            "  inflating: rice_leaf_diseases/Bacterial leaf blight/DSC_0702.jpg  \n",
            "  inflating: rice_leaf_diseases/Bacterial leaf blight/DSC_0703.JPG  \n",
            "  inflating: rice_leaf_diseases/Brown spot/DSC_0100.jpg  \n",
            "  inflating: rice_leaf_diseases/Brown spot/DSC_0101.jpg  \n",
            "  inflating: rice_leaf_diseases/Brown spot/DSC_0104.jpg  \n",
            "  inflating: rice_leaf_diseases/Brown spot/DSC_0105.jpg  \n",
            "  inflating: rice_leaf_diseases/Brown spot/DSC_0106.jpg  \n",
            "  inflating: rice_leaf_diseases/Brown spot/DSC_0107.jpg  \n",
            "  inflating: rice_leaf_diseases/Brown spot/DSC_0108.jpg  \n",
            "  inflating: rice_leaf_diseases/Brown spot/DSC_0109.jpg  \n",
            "  inflating: rice_leaf_diseases/Brown spot/DSC_0110.jpg  \n",
            "  inflating: rice_leaf_diseases/Brown spot/DSC_0111.jpg  \n",
            "  inflating: rice_leaf_diseases/Brown spot/DSC_0112.jpg  \n",
            "  inflating: rice_leaf_diseases/Brown spot/DSC_0113.jpg  \n",
            "  inflating: rice_leaf_diseases/Brown spot/DSC_0114.jpg  \n",
            "  inflating: rice_leaf_diseases/Brown spot/DSC_0115.jpg  \n",
            "  inflating: rice_leaf_diseases/Brown spot/DSC_0116.jpg  \n",
            "  inflating: rice_leaf_diseases/Brown spot/DSC_0117.jpg  \n",
            "  inflating: rice_leaf_diseases/Brown spot/DSC_0118.jpg  \n",
            "  inflating: rice_leaf_diseases/Brown spot/DSC_0119.jpg  \n",
            "  inflating: rice_leaf_diseases/Brown spot/DSC_0121.jpg  \n",
            "  inflating: rice_leaf_diseases/Brown spot/DSC_0292.JPG  \n",
            "  inflating: rice_leaf_diseases/Brown spot/DSC_0295.JPG  \n",
            "  inflating: rice_leaf_diseases/Brown spot/DSC_0296.jpg  \n",
            "  inflating: rice_leaf_diseases/Brown spot/DSC_0299.JPG  \n",
            "  inflating: rice_leaf_diseases/Brown spot/DSC_0300.JPG  \n",
            "  inflating: rice_leaf_diseases/Brown spot/DSC_0301.JPG  \n",
            "  inflating: rice_leaf_diseases/Brown spot/DSC_0302.JPG  \n",
            "  inflating: rice_leaf_diseases/Brown spot/DSC_0303.JPG  \n",
            "  inflating: rice_leaf_diseases/Brown spot/DSC_0304.JPG  \n",
            "  inflating: rice_leaf_diseases/Brown spot/DSC_0305.JPG  \n",
            "  inflating: rice_leaf_diseases/Brown spot/DSC_0306.JPG  \n",
            "  inflating: rice_leaf_diseases/Brown spot/DSC_0307.JPG  \n",
            "  inflating: rice_leaf_diseases/Brown spot/DSC_0323.JPG  \n",
            "  inflating: rice_leaf_diseases/Brown spot/DSC_0324.JPG  \n",
            "  inflating: rice_leaf_diseases/Brown spot/DSC_0325.JPG  \n",
            "  inflating: rice_leaf_diseases/Brown spot/DSC_0329.jpg  \n",
            "  inflating: rice_leaf_diseases/Brown spot/DSC_0332.JPG  \n",
            "  inflating: rice_leaf_diseases/Brown spot/DSC_0333.JPG  \n",
            "  inflating: rice_leaf_diseases/Brown spot/DSC_0337.JPG  \n",
            "  inflating: rice_leaf_diseases/Brown spot/DSC_0391.jpg  \n",
            "  inflating: rice_leaf_diseases/Brown spot/DSC_0394.jpg  \n",
            "  inflating: rice_leaf_diseases/Leaf smut/DSC_0293.JPG  \n",
            "  inflating: rice_leaf_diseases/Leaf smut/DSC_0308.JPG  \n",
            "  inflating: rice_leaf_diseases/Leaf smut/DSC_0309.JPG  \n",
            "  inflating: rice_leaf_diseases/Leaf smut/DSC_0310.JPG  \n",
            "  inflating: rice_leaf_diseases/Leaf smut/DSC_0312.JPG  \n",
            "  inflating: rice_leaf_diseases/Leaf smut/DSC_0313.JPG  \n",
            "  inflating: rice_leaf_diseases/Leaf smut/DSC_0314.JPG  \n",
            "  inflating: rice_leaf_diseases/Leaf smut/DSC_0315.jpg  \n",
            "  inflating: rice_leaf_diseases/Leaf smut/DSC_0316.JPG  \n",
            "  inflating: rice_leaf_diseases/Leaf smut/DSC_0317.JPG  \n",
            "  inflating: rice_leaf_diseases/Leaf smut/DSC_0318.JPG  \n",
            "  inflating: rice_leaf_diseases/Leaf smut/DSC_0319.jpg  \n",
            "  inflating: rice_leaf_diseases/Leaf smut/DSC_0320.JPG  \n",
            "  inflating: rice_leaf_diseases/Leaf smut/DSC_0321.JPG  \n",
            "  inflating: rice_leaf_diseases/Leaf smut/DSC_0322.jpg  \n",
            "  inflating: rice_leaf_diseases/Leaf smut/DSC_0327.JPG  \n",
            "  inflating: rice_leaf_diseases/Leaf smut/DSC_0328.jpg  \n",
            "  inflating: rice_leaf_diseases/Leaf smut/DSC_0330.jpg  \n",
            "  inflating: rice_leaf_diseases/Leaf smut/DSC_0331.JPG  \n",
            "  inflating: rice_leaf_diseases/Leaf smut/DSC_0335.JPG  \n",
            "  inflating: rice_leaf_diseases/Leaf smut/DSC_0336.jpg  \n",
            "  inflating: rice_leaf_diseases/Leaf smut/DSC_0338.JPG  \n",
            "  inflating: rice_leaf_diseases/Leaf smut/DSC_0339.jpg  \n",
            "  inflating: rice_leaf_diseases/Leaf smut/DSC_0500.jpg  \n",
            "  inflating: rice_leaf_diseases/Leaf smut/DSC_0501.jpg  \n",
            "  inflating: rice_leaf_diseases/Leaf smut/DSC_0502.jpg  \n",
            "  inflating: rice_leaf_diseases/Leaf smut/DSC_0503.jpg  \n",
            "  inflating: rice_leaf_diseases/Leaf smut/DSC_0504.jpg  \n",
            "  inflating: rice_leaf_diseases/Leaf smut/DSC_0505.jpg  \n",
            "  inflating: rice_leaf_diseases/Leaf smut/DSC_0506.jpg  \n",
            "  inflating: rice_leaf_diseases/Leaf smut/DSC_0507.jpg  \n",
            "  inflating: rice_leaf_diseases/Leaf smut/DSC_0508.jpg  \n",
            "  inflating: rice_leaf_diseases/Leaf smut/DSC_0509.jpg  \n",
            "  inflating: rice_leaf_diseases/Leaf smut/DSC_0510.jpg  \n",
            "  inflating: rice_leaf_diseases/Leaf smut/DSC_0511.jpg  \n",
            "  inflating: rice_leaf_diseases/Leaf smut/DSC_0512.jpg  \n",
            "  inflating: rice_leaf_diseases/Leaf smut/DSC_0513.jpg  \n",
            "  inflating: rice_leaf_diseases/Leaf smut/DSC_0514.jpg  \n",
            "  inflating: rice_leaf_diseases/Leaf smut/DSC_0515.jpg  \n",
            "  inflating: rice_leaf_diseases/Leaf smut/DSC_0516.jpg  \n"
          ]
        }
      ]
    },
    {
      "cell_type": "code",
      "source": [
        "#Preprocessing\n",
        "import os\n",
        "import matplotlib.pyplot as plt\n",
        "import numpy as np\n",
        "from skimage.io import imread\n",
        "from skimage.transform import resize\n",
        "\n",
        "target=[]\n",
        "images=[]\n",
        "flat_data=[]\n",
        "DATADIR = '/content/rice_leaf_diseases'\n",
        "CATEGORIES = ['Bacterial leaf blight','Brown spot','Leaf smut']\n",
        "for category in CATEGORIES:\n",
        "  class_num=CATEGORIES.index(category)#label encoding values\n",
        "  path=os.path.join(DATADIR,category)#path to use all images\n",
        "  for img in os.listdir(path):\n",
        "    img_array=imread(os.path.join(path,img))\n",
        "    #print (img_array.shape)\n",
        "    img_resized=resize(img_array,(150,150,3))\n",
        "    flat_data.append(img_resized.flatten())\n",
        "    images.append(img_resized)\n",
        "    target.append(class_num)\n",
        "flat_data=np.array(flat_data)\n",
        "target=np.array(target)\n",
        "images=np.array(images)\n"
      ],
      "metadata": {
        "id": "vOt2L8vW5yAq"
      },
      "execution_count": null,
      "outputs": []
    },
    {
      "cell_type": "code",
      "source": [
        "target"
      ],
      "metadata": {
        "colab": {
          "base_uri": "https://localhost:8080/"
        },
        "id": "Iu9wgNXPCmMp",
        "outputId": "7535fb11-6d07-45b6-ef37-ff1a689c3de8"
      },
      "execution_count": null,
      "outputs": [
        {
          "output_type": "execute_result",
          "data": {
            "text/plain": [
              "array([0, 0, 0, 0, 0, 0, 0, 0, 0, 0, 0, 0, 0, 0, 0, 0, 0, 0, 0, 0, 0, 0,\n",
              "       0, 0, 0, 0, 0, 0, 0, 0, 0, 0, 0, 0, 0, 0, 0, 0, 0, 0, 1, 1, 1, 1,\n",
              "       1, 1, 1, 1, 1, 1, 1, 1, 1, 1, 1, 1, 1, 1, 1, 1, 1, 1, 1, 1, 1, 1,\n",
              "       1, 1, 1, 1, 1, 1, 1, 1, 1, 1, 1, 1, 1, 1, 2, 2, 2, 2, 2, 2, 2, 2,\n",
              "       2, 2, 2, 2, 2, 2, 2, 2, 2, 2, 2, 2, 2, 2, 2, 2, 2, 2, 2, 2, 2, 2,\n",
              "       2, 2, 2, 2, 2, 2, 2, 2, 2, 2])"
            ]
          },
          "metadata": {},
          "execution_count": 14
        }
      ]
    },
    {
      "cell_type": "code",
      "source": [
        "unique,count=np.unique(target,return_counts=True)\n",
        "plt.bar(CATEGORIES,count)"
      ],
      "metadata": {
        "colab": {
          "base_uri": "https://localhost:8080/",
          "height": 282
        },
        "id": "x_GH4p16C2Rd",
        "outputId": "76ac5c7f-bf3b-4e34-f52f-634a7ebc0463"
      },
      "execution_count": null,
      "outputs": [
        {
          "output_type": "execute_result",
          "data": {
            "text/plain": [
              "<BarContainer object of 3 artists>"
            ]
          },
          "metadata": {},
          "execution_count": 15
        },
        {
          "output_type": "display_data",
          "data": {
            "text/plain": [
              "<Figure size 432x288 with 1 Axes>"
            ],
            "image/png": "[encoded data removed]"
          },
          "metadata": {
            "needs_background": "light"
          }
        }
      ]
    },
    {
      "cell_type": "code",
      "source": [
        "#split data into train and test data\n",
        "from sklearn.model_selection import train_test_split\n",
        "x_train,x_test,y_train,y_test=train_test_split(flat_data,target,test_size=0.1,random_state=109)"
      ],
      "metadata": {
        "id": "lmyuSKBpDoVe"
      },
      "execution_count": null,
      "outputs": []
    },
    {
      "cell_type": "code",
      "source": [
        "from sklearn.ensemble import RandomForestClassifier\n",
        "from sklearn.model_selection import GridSearchCV\n",
        "n_estimators=[int(x) for x in np.linspace(start=10,stop=100,num=10)]\n",
        "max_depth=[2,6]\n",
        "min_samples_split=[2,6]\n",
        "min_samples_leaf=[2,6]\n",
        "bootstrap=[True,False]\n",
        "max_features=['auto','sqrt']\n",
        "\n",
        "random_grid={'n_estimators': n_estimators,\n",
        "           'max_depth': max_depth,\n",
        "           'min_samples_split':min_samples_split,\n",
        "           'min_samples_leaf':min_samples_leaf,\n",
        "           'bootstrap':bootstrap,\n",
        "           'max_features':max_features,}\n",
        "print(random_grid)\n",
        "rf_model=RandomForestClassifier()\n",
        "rf_grid=GridSearchCV(estimator=rf_model,param_grid=random_grid,cv=5,verbose=2,n_jobs=4)\n",
        "rf_grid.fit(x_train,y_train)\n",
        "rf_grid.best_params_"
      ],
      "metadata": {
        "colab": {
          "base_uri": "https://localhost:8080/"
        },
        "id": "LkB7FXyOE-K_",
        "outputId": "84e99949-4556-4f7c-c60e-dcff29ca61af"
      },
      "execution_count": null,
      "outputs": [
        {
          "output_type": "stream",
          "name": "stdout",
          "text": [
            "{'n_estimators': [10, 20, 30, 40, 50, 60, 70, 80, 90, 100], 'max_depth': [2, 6], 'min_samples_split': [2, 6], 'min_samples_leaf': [2, 6], 'bootstrap': [True, False], 'max_features': ['auto', 'sqrt']}\n",
            "Fitting 5 folds for each of 320 candidates, totalling 1600 fits\n"
          ]
        },
        {
          "output_type": "execute_result",
          "data": {
            "text/plain": [
              "{'bootstrap': False,\n",
              " 'max_depth': 6,\n",
              " 'max_features': 'sqrt',\n",
              " 'min_samples_leaf': 2,\n",
              " 'min_samples_split': 6,\n",
              " 'n_estimators': 70}"
            ]
          },
          "metadata": {},
          "execution_count": 21
        }
      ]
    },
    {
      "cell_type": "code",
      "source": [
        "a1=np.shape(x_train)\n",
        "a2=np.shape(y_train)\n",
        "print(a1)\n",
        "print(a2)\n",
        "x_train1=np.arange(0,len(x_train),1)\n",
        "x_test1=np.arange(0,len(x_test),1)\n",
        "a1=np.shape(x_train1)\n",
        "a2=np.shape(x_test1)\n",
        "print(a1)\n",
        "print(a2)"
      ],
      "metadata": {
        "colab": {
          "base_uri": "https://localhost:8080/"
        },
        "id": "aLQ2hqISxqfk",
        "outputId": "10bd4dc1-d9c2-427d-ec94-5e94e1ab1218"
      },
      "execution_count": null,
      "outputs": [
        {
          "output_type": "stream",
          "name": "stdout",
          "text": [
            "(108, 67500)\n",
            "(108,)\n",
            "(108,)\n",
            "(12,)\n"
          ]
        }
      ]
    },
    {
      "cell_type": "code",
      "source": [
        "from numpy.core.fromnumeric import reshape\n",
        "from sklearn.metrics import accuracy_score\n",
        "plt.scatter(x_train1,y_train)\n",
        "plt.show()\n",
        "plt.scatter(x_test1,y_test)\n",
        "plt.show()\n",
        "y_pred=rf_grid.predict(x_test)\n",
        "print(f'train score {rf_grid.score(x_train,y_train):.3f}')\n",
        "print(f'test score{rf_grid.score(x_test,y_test):.3f}')\n",
        "accuracy_score(y_pred,y_test)\n",
        "from sklearn.metrics import confusion_matrix,accuracy_score,f1_score,precision_score,recall_score\n",
        "cm=confusion_matrix(y_test,y_pred)\n",
        "accuracy_score(y_test,y_pred)\n",
        "prec=precision_score(y_test, y_pred,average='micro')\n",
        "reca=recall_score(y_test, y_pred,average='micro')\n",
        "f1sco=f1_score(y_test, y_pred,average='micro')\n",
        "print(\"Precision Score : \",precision_score(y_test, y_pred, \n",
        "                                           average='micro'))\n",
        "print(\"Recall Score : \",recall_score(y_test, y_pred, \n",
        "                                           average='micro'))\n",
        "print(\"f1 Score : \",f1_score(y_test, y_pred, \n",
        "                                           average='micro'))\n",
        "print(cm)"
      ],
      "metadata": {
        "colab": {
          "base_uri": "https://localhost:8080/",
          "height": 652
        },
        "id": "t-r83yysu6UN",
        "outputId": "5e11842f-aee0-4d2f-e14c-3bf6abafede8"
      },
      "execution_count": null,
      "outputs": [
        {
          "output_type": "display_data",
          "data": {
            "text/plain": [
              "<Figure size 432x288 with 1 Axes>"
            ],
            "image/png": "[encoded data removed]"
          },
          "metadata": {
            "needs_background": "light"
          }
        },
        {
          "output_type": "display_data",
          "data": {
            "text/plain": [
              "<Figure size 432x288 with 1 Axes>"
            ],
            "image/png": "[encoded data removed]"
          },
          "metadata": {
            "needs_background": "light"
          }
        },
        {
          "output_type": "stream",
          "name": "stdout",
          "text": [
            "train score 1.000\n",
            "test score0.917\n",
            "Precision Score :  0.9166666666666666\n",
            "Recall Score :  0.9166666666666666\n",
            "f1 Score :  0.9166666666666666\n",
            "[[4 0 0]\n",
            " [0 2 0]\n",
            " [0 1 5]]\n"
          ]
        }
      ]
    }
  ]
}